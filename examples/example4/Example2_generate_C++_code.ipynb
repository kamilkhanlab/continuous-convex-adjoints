{
 "cells": [
  {
   "cell_type": "code",
   "execution_count": 2,
   "id": "13973ed4-d0e3-444b-9c5e-300e7d5c645d",
   "metadata": {},
   "outputs": [
    {
     "name": "stdout",
     "output_type": "stream",
     "text": [
      " Computational graph of function No.1\n",
      "\n",
      " index | op  | parents\n",
      " ---------------------\n",
      "     1 | inp |         \n",
      "     2 |  p  |         \n",
      "     3 |  ^2 | 1       \n",
      "     4 | con |         \n",
      "     5 |  -  | 3    4  \n",
      "     6 |  *  | 2    5  \n",
      "     7 | out | 6       \n",
      "\n",
      "\n",
      "\n",
      "\n",
      "C++ code for Adjoint mode computation of subgradients of McCormick relaxations is generated for Example 2 as reverseMC.cpp with its hearder file reverseMC.hpp\n"
     ]
    }
   ],
   "source": [
    "\n",
    "include(\"../src/ReverseADforVW.jl\")\n",
    "\n",
    "using .ReverseADforVW\n",
    "\n",
    "# construct AD tape for function\n",
    "nx = 1;\n",
    "np = 1;\n",
    "nf = 1;\n",
    "\n",
    "# function has to be constructed as f(x,p,i) instead of f(p,x,i) or f(i,x,p), which will lead to error\n",
    "# construct AD tape for function\n",
    "\n",
    "function f(x, p, i)\n",
    "    if i == 1\n",
    "        f = p[1] * (x[1]^2 - 1.0);\n",
    "    end\n",
    "    \n",
    "end\n",
    "\n",
    "tape = record_tape(f,nx,np,1,nf) \n",
    "\n",
    "println(tape)\n",
    "println(\"\\nC++ code for Adjoint mode computation of subgradients of McCormick relaxations is generated for Example 2 as reverseMC.cpp with its hearder file reverseMC.hpp\")\n",
    "generate_revMC_c_code!(tape)"
   ]
  },
  {
   "cell_type": "code",
   "execution_count": null,
   "id": "b312dac6-316d-46f9-bd1b-3e0db1767a2e",
   "metadata": {},
   "outputs": [],
   "source": []
  }
 ],
 "metadata": {
  "kernelspec": {
   "display_name": "Julia 1.8.5",
   "language": "julia",
   "name": "julia-1.8"
  },
  "language_info": {
   "file_extension": ".jl",
   "mimetype": "application/julia",
   "name": "julia",
   "version": "1.8.5"
  }
 },
 "nbformat": 4,
 "nbformat_minor": 5
}
